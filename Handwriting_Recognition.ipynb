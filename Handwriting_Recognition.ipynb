{
  "nbformat": 4,
  "nbformat_minor": 0,
  "metadata": {
    "colab": {
      "name": "Handwriting Recognition.ipynb",
      "version": "0.3.2",
      "provenance": [],
      "include_colab_link": true
    },
    "kernelspec": {
      "name": "python3",
      "display_name": "Python 3"
    }
  },
  "cells": [
    {
      "cell_type": "markdown",
      "metadata": {
        "id": "view-in-github",
        "colab_type": "text"
      },
      "source": [
        "<a href=\"https://colab.research.google.com/github/sourabhgupta385/coursera-intro-to-tenserflow/blob/master/Handwriting_Recognition.ipynb\" target=\"_parent\"><img src=\"https://colab.research.google.com/assets/colab-badge.svg\" alt=\"Open In Colab\"/></a>"
      ]
    },
    {
      "metadata": {
        "id": "4Rc5rSuJL6LU",
        "colab_type": "code",
        "colab": {
          "base_uri": "https://localhost:8080/",
          "height": 653
        },
        "outputId": "3e4ee61f-8f47-46d3-d467-d39e1c8f7dc6"
      },
      "cell_type": "code",
      "source": [
        "# YOUR CODE SHOULD START HERE\n",
        "import matplotlib.pyplot as plt\n",
        "# YOUR CODE SHOULD END HERE\n",
        "import tensorflow as tf\n",
        "mnist = tf.keras.datasets.mnist\n",
        "\n",
        "(x_train, y_train),(x_test, y_test) = mnist.load_data()\n",
        "# YOUR CODE SHOULD START HERE\n",
        "x_train, x_test = x_train/255.0, x_test/255.0\n",
        "\n",
        "class myCallback(tf.keras.callbacks.Callback):\n",
        "  def on_epoch_end(self, epoch, logs={}):\n",
        "    if(logs.get('acc') > 0.99):\n",
        "      print(\"\\nReached 99% accuracy so cancelling training!\")\n",
        "      self.model.stop_training = True\n",
        "\n",
        "callbacks = myCallback()    \n",
        "    \n",
        "#plt.imshow(x_train[0])\n",
        "# YOUR CODE SHOULD END HERE\n",
        "model = tf.keras.models.Sequential([\n",
        "# YOUR CODE SHOULD START HERE\n",
        "    tf.keras.layers.Flatten(),\n",
        "    tf.keras.layers.Dense(256, activation=tf.nn.relu),\n",
        "    tf.keras.layers.Dense(10,activation=tf.nn.softmax),\n",
        "# YOUR CODE SHOULD END HERE\n",
        "])\n",
        "\n",
        "model.compile(optimizer='adam',\n",
        "              loss='sparse_categorical_crossentropy',\n",
        "              metrics=['accuracy'])\n",
        "\n",
        "# YOUR CODE SHOULD START HERE\n",
        "model.fit(x_train, y_train, epochs=10, callbacks=[callbacks])\n",
        "model.evaluate(x_test, y_test)\n",
        "classifications = model.predict(x_test)\n",
        "plt.imshow(x_test[0])\n",
        "print(y_test[0])\n",
        "print(classifications[0] / max(classifications[0]))\n",
        "# YOUR CODE SHOULD END HERE"
      ],
      "execution_count": 9,
      "outputs": [
        {
          "output_type": "stream",
          "text": [
            "Epoch 1/10\n",
            "60000/60000 [==============================] - 9s 151us/sample - loss: 0.2222 - acc: 0.9359\n",
            "Epoch 2/10\n",
            "60000/60000 [==============================] - 9s 148us/sample - loss: 0.0915 - acc: 0.9722\n",
            "Epoch 3/10\n",
            "60000/60000 [==============================] - 9s 148us/sample - loss: 0.0609 - acc: 0.9813\n",
            "Epoch 4/10\n",
            "60000/60000 [==============================] - 9s 145us/sample - loss: 0.0444 - acc: 0.9865\n",
            "Epoch 5/10\n",
            "59840/60000 [============================>.] - ETA: 0s - loss: 0.0328 - acc: 0.9900\n",
            "Reached 99% accuracy so cancelling training!\n",
            "60000/60000 [==============================] - 9s 147us/sample - loss: 0.0327 - acc: 0.9900\n",
            "10000/10000 [==============================] - 1s 61us/sample - loss: 0.0744 - acc: 0.9773\n",
            "7\n",
            "[1.5616788e-09 1.4313697e-09 2.8901741e-06 3.0644954e-04 6.0277965e-13\n",
            " 8.5171594e-09 2.2093755e-13 9.9969053e-01 4.8469857e-08 1.3143595e-07]\n",
            "[1.5621622e-09 1.4318128e-09 2.8910688e-06 3.0654442e-04 6.0296624e-13\n",
            " 8.5197964e-09 2.2100595e-13 1.0000000e+00 4.8484861e-08 1.3147664e-07]\n"
          ],
          "name": "stdout"
        },
        {
          "output_type": "display_data",
          "data": {
            "image/png": "[encoded data removed]",
            "text/plain": [
              "<Figure size 576x396 with 1 Axes>"
            ]
          },
          "metadata": {
            "tags": []
          }
        }
      ]
    }
  ]
}